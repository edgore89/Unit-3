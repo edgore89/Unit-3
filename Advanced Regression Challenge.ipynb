{
 "cells": [
  {
   "cell_type": "code",
   "execution_count": 172,
   "metadata": {},
   "outputs": [],
   "source": [
    "import matplotlib.pyplot as plt\n",
    "import numpy as np\n",
    "import pandas as pd\n",
    "import scipy\n",
    "import sklearn\n",
    "import seaborn as sns\n",
    "import math\n",
    "%matplotlib inline\n",
    "from sklearn import linear_model\n",
    "from sklearn.linear_model import LogisticRegression\n",
    "from sklearn.linear_model import Ridge\n",
    "from sklearn.linear_model import Lasso\n",
    "from sklearn import neighbors\n",
    "from sklearn.preprocessing import StandardScaler\n",
    "from sklearn.model_selection import train_test_split\n",
    "from sklearn.model_selection import cross_val_score\n",
    "import statsmodels.formula.api as smf\n",
    "from statsmodels.sandbox.regression.predstd import wls_prediction_std\n",
    "import warnings\n",
    "warnings.filterwarnings('ignore')\n",
    "sns.set_style('white')"
   ]
  },
  {
   "cell_type": "code",
   "execution_count": 173,
   "metadata": {},
   "outputs": [],
   "source": [
    "df = pd.read_csv('table_8_offenses_known_to_law_enforcement_new_york_by_city_2013.csv')"
   ]
  },
  {
   "cell_type": "code",
   "execution_count": 174,
   "metadata": {},
   "outputs": [],
   "source": [
    "df.columns = ['city','population','violent_crime','murder','rape_revised','rape_legacy','robbery','aggravated_assault','property_crime','burglary','larceny_theft','vehicle_theft','arson', '?']\n",
    "df.drop(labels=[0,1,2,3,352,353,354],axis=0,inplace=True)\n",
    "df.drop(labels=['city','rape_revised', '?'],axis=1,inplace=True)\n",
    "\n",
    "columns = list(df.columns)\n",
    "for column in columns:\n",
    "    df[column] = df[column].str.replace(',', '')\n",
    "\n",
    "df = df.apply(pd.to_numeric)\n",
    "df = df.dropna()\n",
    "\n",
    "#Target:'violent_crime'\n",
    "#Features:'aggravated_assault', 'arson', 'burglary', 'larceny_theft', 'murder', 'population', 'rape_legacy', 'vehicle_theft'"
   ]
  },
  {
   "cell_type": "code",
   "execution_count": 175,
   "metadata": {},
   "outputs": [
    {
     "data": {
      "text/html": [
       "<div>\n",
       "<style scoped>\n",
       "    .dataframe tbody tr th:only-of-type {\n",
       "        vertical-align: middle;\n",
       "    }\n",
       "\n",
       "    .dataframe tbody tr th {\n",
       "        vertical-align: top;\n",
       "    }\n",
       "\n",
       "    .dataframe thead th {\n",
       "        text-align: right;\n",
       "    }\n",
       "</style>\n",
       "<table border=\"1\" class=\"dataframe\">\n",
       "  <thead>\n",
       "    <tr style=\"text-align: right;\">\n",
       "      <th></th>\n",
       "      <th>population</th>\n",
       "      <th>violent_crime</th>\n",
       "      <th>murder</th>\n",
       "      <th>rape_legacy</th>\n",
       "      <th>robbery</th>\n",
       "      <th>aggravated_assault</th>\n",
       "      <th>property_crime</th>\n",
       "      <th>burglary</th>\n",
       "      <th>larceny_theft</th>\n",
       "      <th>vehicle_theft</th>\n",
       "      <th>arson</th>\n",
       "    </tr>\n",
       "  </thead>\n",
       "  <tbody>\n",
       "    <tr>\n",
       "      <th>4</th>\n",
       "      <td>1861</td>\n",
       "      <td>0</td>\n",
       "      <td>0</td>\n",
       "      <td>0</td>\n",
       "      <td>0</td>\n",
       "      <td>0</td>\n",
       "      <td>12</td>\n",
       "      <td>2</td>\n",
       "      <td>10</td>\n",
       "      <td>0</td>\n",
       "      <td>0.0</td>\n",
       "    </tr>\n",
       "    <tr>\n",
       "      <th>5</th>\n",
       "      <td>2577</td>\n",
       "      <td>3</td>\n",
       "      <td>0</td>\n",
       "      <td>0</td>\n",
       "      <td>0</td>\n",
       "      <td>3</td>\n",
       "      <td>24</td>\n",
       "      <td>3</td>\n",
       "      <td>20</td>\n",
       "      <td>1</td>\n",
       "      <td>0.0</td>\n",
       "    </tr>\n",
       "    <tr>\n",
       "      <th>6</th>\n",
       "      <td>2846</td>\n",
       "      <td>3</td>\n",
       "      <td>0</td>\n",
       "      <td>0</td>\n",
       "      <td>0</td>\n",
       "      <td>3</td>\n",
       "      <td>16</td>\n",
       "      <td>1</td>\n",
       "      <td>15</td>\n",
       "      <td>0</td>\n",
       "      <td>0.0</td>\n",
       "    </tr>\n",
       "    <tr>\n",
       "      <th>10</th>\n",
       "      <td>1781</td>\n",
       "      <td>3</td>\n",
       "      <td>0</td>\n",
       "      <td>0</td>\n",
       "      <td>0</td>\n",
       "      <td>3</td>\n",
       "      <td>10</td>\n",
       "      <td>0</td>\n",
       "      <td>10</td>\n",
       "      <td>0</td>\n",
       "      <td>0.0</td>\n",
       "    </tr>\n",
       "    <tr>\n",
       "      <th>11</th>\n",
       "      <td>118296</td>\n",
       "      <td>107</td>\n",
       "      <td>1</td>\n",
       "      <td>7</td>\n",
       "      <td>31</td>\n",
       "      <td>68</td>\n",
       "      <td>2118</td>\n",
       "      <td>204</td>\n",
       "      <td>1882</td>\n",
       "      <td>32</td>\n",
       "      <td>3.0</td>\n",
       "    </tr>\n",
       "  </tbody>\n",
       "</table>\n",
       "</div>"
      ],
      "text/plain": [
       "    population  violent_crime  murder  rape_legacy  robbery  \\\n",
       "4         1861              0       0            0        0   \n",
       "5         2577              3       0            0        0   \n",
       "6         2846              3       0            0        0   \n",
       "10        1781              3       0            0        0   \n",
       "11      118296            107       1            7       31   \n",
       "\n",
       "    aggravated_assault  property_crime  burglary  larceny_theft  \\\n",
       "4                    0              12         2             10   \n",
       "5                    3              24         3             20   \n",
       "6                    3              16         1             15   \n",
       "10                   3              10         0             10   \n",
       "11                  68            2118       204           1882   \n",
       "\n",
       "    vehicle_theft  arson  \n",
       "4               0    0.0  \n",
       "5               1    0.0  \n",
       "6               0    0.0  \n",
       "10              0    0.0  \n",
       "11             32    3.0  "
      ]
     },
     "execution_count": 175,
     "metadata": {},
     "output_type": "execute_result"
    }
   ],
   "source": [
    "df.head()"
   ]
  },
  {
   "cell_type": "code",
   "execution_count": 176,
   "metadata": {},
   "outputs": [
    {
     "data": {
      "image/png": "[encoded data removed]",
      "text/plain": [
       "<Figure size 432x288 with 1 Axes>"
      ]
     },
     "metadata": {},
     "output_type": "display_data"
    }
   ],
   "source": [
    "population = sns.violinplot(df['population'])"
   ]
  },
  {
   "cell_type": "code",
   "execution_count": 177,
   "metadata": {},
   "outputs": [],
   "source": [
    "q25 = df['population'].quantile(0.25)\n",
    "q75 = df['population'].quantile(0.75)\n",
    "iqr = q75 - q25\n",
    "maximum = q75 + (iqr * 1.5)\n",
    "df = df.where(df['population'] < maximum)"
   ]
  },
  {
   "cell_type": "code",
   "execution_count": 178,
   "metadata": {},
   "outputs": [
    {
     "data": {
      "image/png": "[encoded data removed]",
      "text/plain": [
       "<Figure size 432x288 with 1 Axes>"
      ]
     },
     "metadata": {},
     "output_type": "display_data"
    }
   ],
   "source": [
    "population = sns.violinplot(df['population'])"
   ]
  },
  {
   "cell_type": "code",
   "execution_count": 179,
   "metadata": {},
   "outputs": [
    {
     "data": {
      "image/png": "[encoded data removed]",
      "text/plain": [
       "<Figure size 432x288 with 2 Axes>"
      ]
     },
     "metadata": {},
     "output_type": "display_data"
    }
   ],
   "source": [
    "correlations = sns.heatmap(df.corr(), linewidths=1)"
   ]
  },
  {
   "cell_type": "code",
   "execution_count": 180,
   "metadata": {},
   "outputs": [],
   "source": [
    "df['population'] = df['population'].apply(lambda x: x/1000)\n",
    "features = df[['violent_crime','murder','rape_legacy','robbery','aggravated_assault','property_crime','burglary','larceny_theft','vehicle_theft','arson']]\n",
    "feature_columns = list(features.columns)\n",
    "for column in feature_columns:\n",
    "    df[column] = df[column].apply(lambda x: x/df['population'])\n",
    "df = df.dropna()"
   ]
  },
  {
   "cell_type": "code",
   "execution_count": 181,
   "metadata": {},
   "outputs": [
    {
     "data": {
      "text/html": [
       "<div>\n",
       "<style scoped>\n",
       "    .dataframe tbody tr th:only-of-type {\n",
       "        vertical-align: middle;\n",
       "    }\n",
       "\n",
       "    .dataframe tbody tr th {\n",
       "        vertical-align: top;\n",
       "    }\n",
       "\n",
       "    .dataframe thead th {\n",
       "        text-align: right;\n",
       "    }\n",
       "</style>\n",
       "<table border=\"1\" class=\"dataframe\">\n",
       "  <thead>\n",
       "    <tr style=\"text-align: right;\">\n",
       "      <th></th>\n",
       "      <th>population</th>\n",
       "      <th>violent_crime</th>\n",
       "      <th>murder</th>\n",
       "      <th>rape_legacy</th>\n",
       "      <th>robbery</th>\n",
       "      <th>aggravated_assault</th>\n",
       "      <th>property_crime</th>\n",
       "      <th>burglary</th>\n",
       "      <th>larceny_theft</th>\n",
       "      <th>vehicle_theft</th>\n",
       "      <th>arson</th>\n",
       "    </tr>\n",
       "  </thead>\n",
       "  <tbody>\n",
       "    <tr>\n",
       "      <th>4</th>\n",
       "      <td>1.861</td>\n",
       "      <td>0.000000</td>\n",
       "      <td>0.0</td>\n",
       "      <td>0.000000</td>\n",
       "      <td>0.000000</td>\n",
       "      <td>0.000000</td>\n",
       "      <td>6.448146</td>\n",
       "      <td>1.074691</td>\n",
       "      <td>5.373455</td>\n",
       "      <td>0.000000</td>\n",
       "      <td>0.000000</td>\n",
       "    </tr>\n",
       "    <tr>\n",
       "      <th>5</th>\n",
       "      <td>2.577</td>\n",
       "      <td>1.612037</td>\n",
       "      <td>0.0</td>\n",
       "      <td>0.000000</td>\n",
       "      <td>0.000000</td>\n",
       "      <td>1.612037</td>\n",
       "      <td>12.896292</td>\n",
       "      <td>1.612037</td>\n",
       "      <td>10.746910</td>\n",
       "      <td>0.537346</td>\n",
       "      <td>0.000000</td>\n",
       "    </tr>\n",
       "    <tr>\n",
       "      <th>6</th>\n",
       "      <td>2.846</td>\n",
       "      <td>1.612037</td>\n",
       "      <td>0.0</td>\n",
       "      <td>0.000000</td>\n",
       "      <td>0.000000</td>\n",
       "      <td>1.612037</td>\n",
       "      <td>8.597528</td>\n",
       "      <td>0.537346</td>\n",
       "      <td>8.060183</td>\n",
       "      <td>0.000000</td>\n",
       "      <td>0.000000</td>\n",
       "    </tr>\n",
       "    <tr>\n",
       "      <th>10</th>\n",
       "      <td>1.781</td>\n",
       "      <td>1.612037</td>\n",
       "      <td>0.0</td>\n",
       "      <td>0.000000</td>\n",
       "      <td>0.000000</td>\n",
       "      <td>1.612037</td>\n",
       "      <td>5.373455</td>\n",
       "      <td>0.000000</td>\n",
       "      <td>5.373455</td>\n",
       "      <td>0.000000</td>\n",
       "      <td>0.000000</td>\n",
       "    </tr>\n",
       "    <tr>\n",
       "      <th>12</th>\n",
       "      <td>9.519</td>\n",
       "      <td>4.836110</td>\n",
       "      <td>0.0</td>\n",
       "      <td>1.074691</td>\n",
       "      <td>2.149382</td>\n",
       "      <td>1.612037</td>\n",
       "      <td>112.842558</td>\n",
       "      <td>8.597528</td>\n",
       "      <td>101.020956</td>\n",
       "      <td>3.224073</td>\n",
       "      <td>0.537346</td>\n",
       "    </tr>\n",
       "  </tbody>\n",
       "</table>\n",
       "</div>"
      ],
      "text/plain": [
       "    population  violent_crime  murder  rape_legacy   robbery  \\\n",
       "4        1.861       0.000000     0.0     0.000000  0.000000   \n",
       "5        2.577       1.612037     0.0     0.000000  0.000000   \n",
       "6        2.846       1.612037     0.0     0.000000  0.000000   \n",
       "10       1.781       1.612037     0.0     0.000000  0.000000   \n",
       "12       9.519       4.836110     0.0     1.074691  2.149382   \n",
       "\n",
       "    aggravated_assault  property_crime  burglary  larceny_theft  \\\n",
       "4             0.000000        6.448146  1.074691       5.373455   \n",
       "5             1.612037       12.896292  1.612037      10.746910   \n",
       "6             1.612037        8.597528  0.537346       8.060183   \n",
       "10            1.612037        5.373455  0.000000       5.373455   \n",
       "12            1.612037      112.842558  8.597528     101.020956   \n",
       "\n",
       "    vehicle_theft     arson  \n",
       "4        0.000000  0.000000  \n",
       "5        0.537346  0.000000  \n",
       "6        0.000000  0.000000  \n",
       "10       0.000000  0.000000  \n",
       "12       3.224073  0.537346  "
      ]
     },
     "execution_count": 181,
     "metadata": {},
     "output_type": "execute_result"
    }
   ],
   "source": [
    "df.head()"
   ]
  },
  {
   "cell_type": "code",
   "execution_count": 182,
   "metadata": {},
   "outputs": [
    {
     "data": {
      "text/html": [
       "<div>\n",
       "<style scoped>\n",
       "    .dataframe tbody tr th:only-of-type {\n",
       "        vertical-align: middle;\n",
       "    }\n",
       "\n",
       "    .dataframe tbody tr th {\n",
       "        vertical-align: top;\n",
       "    }\n",
       "\n",
       "    .dataframe thead th {\n",
       "        text-align: right;\n",
       "    }\n",
       "</style>\n",
       "<table border=\"1\" class=\"dataframe\">\n",
       "  <thead>\n",
       "    <tr style=\"text-align: right;\">\n",
       "      <th></th>\n",
       "      <th>population</th>\n",
       "      <th>violent_crime</th>\n",
       "      <th>murder</th>\n",
       "      <th>rape_legacy</th>\n",
       "      <th>robbery</th>\n",
       "      <th>aggravated_assault</th>\n",
       "      <th>property_crime</th>\n",
       "      <th>burglary</th>\n",
       "      <th>larceny_theft</th>\n",
       "      <th>vehicle_theft</th>\n",
       "      <th>arson</th>\n",
       "    </tr>\n",
       "  </thead>\n",
       "  <tbody>\n",
       "    <tr>\n",
       "      <th>count</th>\n",
       "      <td>172.000000</td>\n",
       "      <td>172.000000</td>\n",
       "      <td>172.000000</td>\n",
       "      <td>172.000000</td>\n",
       "      <td>172.000000</td>\n",
       "      <td>172.000000</td>\n",
       "      <td>172.000000</td>\n",
       "      <td>172.000000</td>\n",
       "      <td>172.000000</td>\n",
       "      <td>172.000000</td>\n",
       "      <td>172.000000</td>\n",
       "    </tr>\n",
       "    <tr>\n",
       "      <th>mean</th>\n",
       "      <td>8.736372</td>\n",
       "      <td>6.548117</td>\n",
       "      <td>0.059358</td>\n",
       "      <td>0.477988</td>\n",
       "      <td>1.899454</td>\n",
       "      <td>4.111318</td>\n",
       "      <td>83.266686</td>\n",
       "      <td>12.758832</td>\n",
       "      <td>68.355348</td>\n",
       "      <td>2.152506</td>\n",
       "      <td>0.274921</td>\n",
       "    </tr>\n",
       "    <tr>\n",
       "      <th>std</th>\n",
       "      <td>8.848373</td>\n",
       "      <td>19.518755</td>\n",
       "      <td>0.293170</td>\n",
       "      <td>1.260456</td>\n",
       "      <td>6.804242</td>\n",
       "      <td>11.697474</td>\n",
       "      <td>119.061364</td>\n",
       "      <td>20.687394</td>\n",
       "      <td>97.235937</td>\n",
       "      <td>4.316598</td>\n",
       "      <td>0.789324</td>\n",
       "    </tr>\n",
       "    <tr>\n",
       "      <th>min</th>\n",
       "      <td>0.526000</td>\n",
       "      <td>0.000000</td>\n",
       "      <td>0.000000</td>\n",
       "      <td>0.000000</td>\n",
       "      <td>0.000000</td>\n",
       "      <td>0.000000</td>\n",
       "      <td>0.000000</td>\n",
       "      <td>0.000000</td>\n",
       "      <td>0.000000</td>\n",
       "      <td>0.000000</td>\n",
       "      <td>0.000000</td>\n",
       "    </tr>\n",
       "    <tr>\n",
       "      <th>25%</th>\n",
       "      <td>2.053750</td>\n",
       "      <td>0.403009</td>\n",
       "      <td>0.000000</td>\n",
       "      <td>0.000000</td>\n",
       "      <td>0.000000</td>\n",
       "      <td>0.000000</td>\n",
       "      <td>9.537883</td>\n",
       "      <td>1.612037</td>\n",
       "      <td>7.388501</td>\n",
       "      <td>0.000000</td>\n",
       "      <td>0.000000</td>\n",
       "    </tr>\n",
       "    <tr>\n",
       "      <th>50%</th>\n",
       "      <td>5.261500</td>\n",
       "      <td>1.612037</td>\n",
       "      <td>0.000000</td>\n",
       "      <td>0.000000</td>\n",
       "      <td>0.000000</td>\n",
       "      <td>1.074691</td>\n",
       "      <td>31.972058</td>\n",
       "      <td>4.567437</td>\n",
       "      <td>25.523912</td>\n",
       "      <td>0.537346</td>\n",
       "      <td>0.000000</td>\n",
       "    </tr>\n",
       "    <tr>\n",
       "      <th>75%</th>\n",
       "      <td>11.840750</td>\n",
       "      <td>6.716819</td>\n",
       "      <td>0.000000</td>\n",
       "      <td>0.537346</td>\n",
       "      <td>1.612037</td>\n",
       "      <td>4.298764</td>\n",
       "      <td>103.976357</td>\n",
       "      <td>15.314347</td>\n",
       "      <td>85.303600</td>\n",
       "      <td>2.149382</td>\n",
       "      <td>0.000000</td>\n",
       "    </tr>\n",
       "    <tr>\n",
       "      <th>max</th>\n",
       "      <td>36.369000</td>\n",
       "      <td>233.745298</td>\n",
       "      <td>2.686728</td>\n",
       "      <td>11.284256</td>\n",
       "      <td>80.601827</td>\n",
       "      <td>139.172488</td>\n",
       "      <td>727.028479</td>\n",
       "      <td>163.353036</td>\n",
       "      <td>635.142397</td>\n",
       "      <td>33.852767</td>\n",
       "      <td>8.060183</td>\n",
       "    </tr>\n",
       "  </tbody>\n",
       "</table>\n",
       "</div>"
      ],
      "text/plain": [
       "       population  violent_crime      murder  rape_legacy     robbery  \\\n",
       "count  172.000000     172.000000  172.000000   172.000000  172.000000   \n",
       "mean     8.736372       6.548117    0.059358     0.477988    1.899454   \n",
       "std      8.848373      19.518755    0.293170     1.260456    6.804242   \n",
       "min      0.526000       0.000000    0.000000     0.000000    0.000000   \n",
       "25%      2.053750       0.403009    0.000000     0.000000    0.000000   \n",
       "50%      5.261500       1.612037    0.000000     0.000000    0.000000   \n",
       "75%     11.840750       6.716819    0.000000     0.537346    1.612037   \n",
       "max     36.369000     233.745298    2.686728    11.284256   80.601827   \n",
       "\n",
       "       aggravated_assault  property_crime    burglary  larceny_theft  \\\n",
       "count          172.000000      172.000000  172.000000     172.000000   \n",
       "mean             4.111318       83.266686   12.758832      68.355348   \n",
       "std             11.697474      119.061364   20.687394      97.235937   \n",
       "min              0.000000        0.000000    0.000000       0.000000   \n",
       "25%              0.000000        9.537883    1.612037       7.388501   \n",
       "50%              1.074691       31.972058    4.567437      25.523912   \n",
       "75%              4.298764      103.976357   15.314347      85.303600   \n",
       "max            139.172488      727.028479  163.353036     635.142397   \n",
       "\n",
       "       vehicle_theft       arson  \n",
       "count     172.000000  172.000000  \n",
       "mean        2.152506    0.274921  \n",
       "std         4.316598    0.789324  \n",
       "min         0.000000    0.000000  \n",
       "25%         0.000000    0.000000  \n",
       "50%         0.537346    0.000000  \n",
       "75%         2.149382    0.000000  \n",
       "max        33.852767    8.060183  "
      ]
     },
     "execution_count": 182,
     "metadata": {},
     "output_type": "execute_result"
    }
   ],
   "source": [
    "df.describe()"
   ]
  },
  {
   "cell_type": "markdown",
   "metadata": {},
   "source": [
    "### New Features"
   ]
  },
  {
   "cell_type": "code",
   "execution_count": 183,
   "metadata": {},
   "outputs": [],
   "source": [
    "df['violent_crime2'] = df['violent_crime'].apply(lambda x: 1 if x> df['violent_crime'].quantile(0.50) else 0)"
   ]
  },
  {
   "cell_type": "code",
   "execution_count": 184,
   "metadata": {},
   "outputs": [],
   "source": [
    "df['arson_squared'] = df['arson'] **2"
   ]
  },
  {
   "cell_type": "code",
   "execution_count": 186,
   "metadata": {},
   "outputs": [],
   "source": [
    "df['murder_squared']=df['murder']**2"
   ]
  },
  {
   "cell_type": "code",
   "execution_count": 188,
   "metadata": {},
   "outputs": [],
   "source": [
    "df['rape_squared']=df['rape_legacy']**2"
   ]
  },
  {
   "cell_type": "code",
   "execution_count": 190,
   "metadata": {},
   "outputs": [],
   "source": [
    "df['total_theft'] = df['burglary']+df['larceny_theft']+df['vehicle_theft']"
   ]
  },
  {
   "cell_type": "code",
   "execution_count": 192,
   "metadata": {},
   "outputs": [],
   "source": [
    "df['total_violence'] = df['aggravated_assault']+df['arson']+df['rape_legacy']+df['robbery']"
   ]
  },
  {
   "cell_type": "code",
   "execution_count": 194,
   "metadata": {},
   "outputs": [
    {
     "data": {
      "image/png": "[encoded data removed]",
      "text/plain": [
       "<Figure size 432x288 with 2 Axes>"
      ]
     },
     "metadata": {},
     "output_type": "display_data"
    }
   ],
   "source": [
    "correlations = sns.heatmap(df.corr(),linewidths=1)"
   ]
  },
  {
   "cell_type": "markdown",
   "metadata": {},
   "source": [
    "### Logistic Regression"
   ]
  },
  {
   "cell_type": "code",
   "execution_count": 201,
   "metadata": {},
   "outputs": [
    {
     "name": "stdout",
     "output_type": "stream",
     "text": [
      "Coefficients: \n",
      " [[ 3.49804239 -1.31452235 -0.49062631  0.13134222 -0.22637909  0.03980248\n",
      "   0.02141898  0.05888395  4.82508064  2.90056717  3.43577524  0.15142227\n",
      "  10.44437592  0.24645914]]\n",
      "Cross-Validation Scores: \n",
      " [1.         0.94285714 0.97058824 1.         0.97058824]\n",
      "Average of Cross-Validation Scores: 97.68%.\n",
      "\n"
     ]
    }
   ],
   "source": [
    "df = df.replace([np.inf, -np.inf], np.nan).dropna(how=\"all\")\n",
    "X = df[['aggravated_assault','arson','arson_squared','burglary','larceny_theft','murder','murder_squared','population','rape_legacy','rape_squared','robbery','total_theft','total_violence','vehicle_theft']]\n",
    "Y = df['violent_crime2']\n",
    "blr = LogisticRegression(C=1e9)\n",
    "fit = blr.fit(X, Y)\n",
    "scores_blr = cross_val_score(blr, X, Y, cv=5)\n",
    "score_blr = cross_val_score(blr, X, Y, cv=5).mean()\n",
    "print('Coefficients: \\n', blr.coef_)\n",
    "print('Cross-Validation Scores: \\n',scores_blr)\n",
    "print('Average of Cross-Validation Scores: {:.2%}.\\n'.format(score_blr))"
   ]
  },
  {
   "cell_type": "markdown",
   "metadata": {},
   "source": [
    "### Ridge Logistic Regression"
   ]
  },
  {
   "cell_type": "code",
   "execution_count": 196,
   "metadata": {},
   "outputs": [
    {
     "name": "stdout",
     "output_type": "stream",
     "text": [
      "Lambda: 5\n",
      "Coefficients: \n",
      " [ 0.36012602 -0.38988362 -0.07170804  0.00225196  0.00102801  0.25940386\n",
      "  0.26076762  0.00177404  0.27471293  0.02189756  0.38936285 -0.00139015\n",
      "  0.63431818 -0.00467011]\n",
      "Cross-Validation Scores: \n",
      " [0.99989728 0.99956032 0.99977116 0.99978433 0.9992357 ]\n",
      "Averaged Cross-Validation Scores: 99.96%.\n",
      "\n"
     ]
    }
   ],
   "source": [
    "#alpha = 5\n",
    "X = df[['aggravated_assault','arson','arson_squared','burglary','larceny_theft','murder','murder_squared','population','rape_legacy','rape_squared','robbery','total_theft','total_violence','vehicle_theft']]\n",
    "Y = df['violent_crime']\n",
    "r_reg = linear_model.Ridge(alpha=5, fit_intercept=False) \n",
    "fit = r_reg.fit(X, Y)\n",
    "scores_r_reg = cross_val_score(r_reg, X, Y, cv=5)\n",
    "score_r_reg = cross_val_score(r_reg, X, Y, cv=5).mean()\n",
    "print('Lambda:', 5)\n",
    "print('Coefficients: \\n', r_reg.coef_)\n",
    "print('Cross-Validation Scores: \\n', scores_r_reg)\n",
    "print('Averaged Cross-Validation Scores: {:.2%}.\\n'.format(score_r_reg))"
   ]
  },
  {
   "cell_type": "code",
   "execution_count": 197,
   "metadata": {},
   "outputs": [
    {
     "name": "stdout",
     "output_type": "stream",
     "text": [
      "Lambda: 10\n",
      "Coefficients: \n",
      " [ 3.51794147e-01 -3.09184390e-01 -9.03657163e-02  3.67527479e-03\n",
      "  6.33803609e-04  1.79928755e-01  2.25999824e-01  2.40261702e-03\n",
      "  2.08751290e-01  3.28651311e-02  3.88736663e-01 -1.22249078e-03\n",
      "  6.40097711e-01 -5.53156920e-03]\n",
      "Cross-Validation Scores: \n",
      " [0.99978182 0.99911522 0.99957955 0.99965716 0.99881199]\n",
      "Averaged Cross-Validation Scores: 99.94%.\n",
      "\n"
     ]
    }
   ],
   "source": [
    "#alpha = 10\n",
    "X = df[['aggravated_assault','arson','arson_squared','burglary','larceny_theft','murder','murder_squared','population','rape_legacy','rape_squared','robbery','total_theft','total_violence','vehicle_theft']]\n",
    "Y = df['violent_crime']\n",
    "r_reg = linear_model.Ridge(alpha=10, fit_intercept=False) \n",
    "fit = r_reg.fit(X, Y)\n",
    "scores_r_reg = cross_val_score(r_reg, X, Y, cv=5)\n",
    "score_r_reg = cross_val_score(r_reg, X, Y, cv=5).mean()\n",
    "print('Lambda:', 10)\n",
    "print('Coefficients: \\n', r_reg.coef_)\n",
    "print('Cross-Validation Scores: \\n', scores_r_reg)\n",
    "print('Averaged Cross-Validation Scores: {:.2%}.\\n'.format(score_r_reg))"
   ]
  },
  {
   "cell_type": "markdown",
   "metadata": {},
   "source": [
    "### Lasso Regression"
   ]
  },
  {
   "cell_type": "code",
   "execution_count": 198,
   "metadata": {},
   "outputs": [
    {
     "name": "stdout",
     "output_type": "stream",
     "text": [
      "Lambda: 5\n",
      "Coefficients: \n",
      " [ 0.00000000e+00 -0.00000000e+00  0.00000000e+00  0.00000000e+00\n",
      "  0.00000000e+00  0.00000000e+00  0.00000000e+00  0.00000000e+00\n",
      "  0.00000000e+00  0.00000000e+00  0.00000000e+00  9.58366727e-04\n",
      "  9.61239713e-01  0.00000000e+00]\n",
      "Cross-Validation Scores: \n",
      " [0.99770783 0.98298267 0.99926559 0.98055899 0.99612946]\n",
      "Averaged Cross-Validation Scores: 99.13%.\n",
      "\n"
     ]
    }
   ],
   "source": [
    "#alpha = 5\n",
    "X = df[['aggravated_assault','arson','arson_squared','burglary','larceny_theft','murder','murder_squared','population','rape_legacy','rape_squared','robbery','total_theft','total_violence','vehicle_theft']]\n",
    "Y = df['violent_crime']\n",
    "l_reg = linear_model.Lasso(alpha=5, fit_intercept=False) \n",
    "fit = l_reg.fit(X, Y)\n",
    "scores_l_reg = cross_val_score(l_reg, X, Y, cv=5)\n",
    "score_l_reg = cross_val_score(l_reg, X, Y, cv=5).mean()\n",
    "print('Lambda:', 5)\n",
    "print('Coefficients: \\n', l_reg.coef_)\n",
    "print('Cross-Validation Scores: \\n', scores_l_reg)\n",
    "print('Averaged Cross-Validation Scores: {:.2%}.\\n'.format(score_l_reg))"
   ]
  },
  {
   "cell_type": "code",
   "execution_count": 199,
   "metadata": {},
   "outputs": [
    {
     "name": "stdout",
     "output_type": "stream",
     "text": [
      "Lambda: 10\n",
      "Coefficients: \n",
      " [0.         0.         0.         0.         0.         0.\n",
      " 0.         0.         0.         0.         0.         0.00246186\n",
      " 0.94306262 0.        ]\n",
      "Cross-Validation Scores: \n",
      " [0.99716318 0.98059929 0.99896601 0.92047456 0.99634079]\n",
      "Averaged Cross-Validation Scores: 97.87%.\n",
      "\n"
     ]
    }
   ],
   "source": [
    "#alpha = 10\n",
    "X = df[['aggravated_assault','arson','arson_squared','burglary','larceny_theft','murder','murder_squared','population','rape_legacy','rape_squared','robbery','total_theft','total_violence','vehicle_theft']]\n",
    "Y = df['violent_crime']\n",
    "l_reg = linear_model.Lasso(alpha=10, fit_intercept=False) \n",
    "fit = l_reg.fit(X, Y)\n",
    "scores_l_reg = cross_val_score(l_reg, X, Y, cv=5)\n",
    "score_l_reg = cross_val_score(l_reg, X, Y, cv=5).mean()\n",
    "print('Lambda:', 10)\n",
    "print('Coefficients: \\n', l_reg.coef_)\n",
    "print('Cross-Validation Scores: \\n', scores_l_reg)\n",
    "print('Averaged Cross-Validation Scores: {:.2%}.\\n'.format(score_l_reg))"
   ]
  },
  {
   "cell_type": "code",
   "execution_count": 200,
   "metadata": {},
   "outputs": [
    {
     "name": "stdout",
     "output_type": "stream",
     "text": [
      "Lambda: 20\n",
      "Coefficients: \n",
      " [0.         0.         0.         0.         0.         0.\n",
      " 0.         0.         0.         0.         0.         0.00545679\n",
      " 0.90676335 0.        ]\n",
      "Cross-Validation Scores: \n",
      " [0.99537249 0.97290665 0.99793943 0.67745328 0.99619395]\n",
      "Averaged Cross-Validation Scores: 92.80%.\n",
      "\n"
     ]
    }
   ],
   "source": [
    "#alpha = 20\n",
    "X = df[['aggravated_assault','arson','arson_squared','burglary','larceny_theft','murder','murder_squared','population','rape_legacy','rape_squared','robbery','total_theft','total_violence','vehicle_theft']]\n",
    "Y = df['violent_crime']\n",
    "l_reg = linear_model.Lasso(alpha=20, fit_intercept=False) \n",
    "fit = l_reg.fit(X, Y)\n",
    "scores_l_reg = cross_val_score(l_reg, X, Y, cv=5)\n",
    "score_l_reg = cross_val_score(l_reg, X, Y, cv=5).mean()\n",
    "print('Lambda:', 20)\n",
    "print('Coefficients: \\n', l_reg.coef_)\n",
    "print('Cross-Validation Scores: \\n', scores_l_reg)\n",
    "print('Averaged Cross-Validation Scores: {:.2%}.\\n'.format(score_l_reg))"
   ]
  },
  {
   "cell_type": "markdown",
   "metadata": {},
   "source": [
    "### Summary\n",
    "\n",
    "### Overall, it seems that I get the best results from the Lasso Regression model. I got a high and similar R-squared value from the Logistic and Ridge regression models which tells me that it was most likely due to overfitting. I tried a Lasso regression model with alpha = 5 and alpha  = 10. I would trust the second model with alpha = 10 becuase it has a better R-qaured value and I prefer Lasso regression due it dropping features to prevent overfitting."
   ]
  },
  {
   "cell_type": "code",
   "execution_count": null,
   "metadata": {},
   "outputs": [],
   "source": []
  }
 ],
 "metadata": {
  "kernelspec": {
   "display_name": "Python 3",
   "language": "python",
   "name": "python3"
  },
  "language_info": {
   "codemirror_mode": {
    "name": "ipython",
    "version": 3
   },
   "file_extension": ".py",
   "mimetype": "text/x-python",
   "name": "python",
   "nbconvert_exporter": "python",
   "pygments_lexer": "ipython3",
   "version": "3.7.0"
  }
 },
 "nbformat": 4,
 "nbformat_minor": 2
}
